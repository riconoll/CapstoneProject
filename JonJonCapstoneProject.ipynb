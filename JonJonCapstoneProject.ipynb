{
 "cells": [
  {
   "cell_type": "markdown",
   "id": "4748057d",
   "metadata": {},
   "source": [
    "# Capstone Project\n",
    "Bike Accident in Great Britain from 1979 - 2018\n",
    "\n",
    "**Analysis By: Jon-Jon Rico-Noll**\n",
    "\n",
    "*Dataset by: John Harshith* | [Data Link](https://www.kaggle.com/johnharshith/bicycle-accidents-in-great-britain-1979-to-2018?select=Accidents.csv)\n",
    "\n",
    "This is a Dataset of bicycle accidents in Great Britain that occurred between years for 1979 - 2018.\n",
    "It explores number of vehicles to number of casualties involved in the accident. As well as gender casualties, severity of the accident and the age group of the victim.\n",
    "\n",
    "A quick glance of the Datset, first question came to mind was 'Do these accidents occur during more on dry road conditions or wet road conditions?' I feel as most drivers and bikers feel more comfortable on dry road conditions and tends to be more relax. This can hinder their attention to their surroundings and may cause an accident. My hypothesis to my exploration that majority of these accidents occur during dry road conditions. Let's explore!\n",
    "\n",
    "*Casualty definition: a person injured or killed in a accident*\n",
    "\n",
    "*Speed Limit: In Great Britain defines speed by MPH*"
   ]
  },
  {
   "cell_type": "markdown",
   "id": "b7312af6",
   "metadata": {},
   "source": [
    "## Importing Libraries and Data"
   ]
  },
  {
   "cell_type": "markdown",
   "id": "6396b3ae",
   "metadata": {},
   "source": [
    "Let's import the libraries that we will need and our data. We will be importing our data from BigQuery "
   ]
  },
  {
   "cell_type": "code",
   "execution_count": 1,
   "id": "b458e772",
   "metadata": {},
   "outputs": [],
   "source": [
    "import pandas as pd\n",
    "import matplotlib.pyplot as plt\n",
    "import seaborn as sns\n",
    "import numpy as np\n",
    "\n",
    "import os\n",
    "\n",
    "import time\n",
    "from google.cloud import bigquery"
   ]
  },
  {
   "cell_type": "code",
   "execution_count": 2,
   "id": "16585513",
   "metadata": {},
   "outputs": [],
   "source": [
    "os.environ['GOOGLE_APPLICATION_CREDENTIALS'] = 'capstoneProject3.json'"
   ]
  },
  {
   "cell_type": "code",
   "execution_count": 3,
   "id": "dfc78e33",
   "metadata": {
    "scrolled": false
   },
   "outputs": [
    {
     "data": {
      "text/plain": [
       "'capstoneProject3.json'"
      ]
     },
     "execution_count": 3,
     "metadata": {},
     "output_type": "execute_result"
    }
   ],
   "source": [
    "os.environ['GOOGLE_APPLICATION_CREDENTIALS']"
   ]
  },
  {
   "cell_type": "markdown",
   "id": "d792a714",
   "metadata": {},
   "source": [
    "I used *BigQuery* to clean up my data, add columns and change certain things that were in the dataset. The data that have been modified is the *'Time'* column where we changed it from an integer to a string (ex. 08:30 to Morning, 13:45 to Afternoon, etc).\n",
    "Query below has comments and explanation for each nesting."
   ]
  },
  {
   "cell_type": "code",
   "execution_count": 4,
   "id": "c5b83896",
   "metadata": {},
   "outputs": [],
   "source": [
    "query = \"\"\"Select \n",
    "Accident_Index,\n",
    "      Gender,\n",
    "      Severity,\n",
    "      AgeCategory,\n",
    "      TimeOfDay,\n",
    "      EXTRACT (YEAR FROM Date) AS Year,\n",
    "  # For what I need to do with the Data, I don't really need to get the whole date but just year.\n",
    "  # Using the EXTRACT function to pull the year for the column  \n",
    "      Number_of_Casualties,\n",
    "      Number_of_Vehicles,\n",
    "      Speed_limit,\n",
    "      Road_conditions,\n",
    "      Light_conditions\n",
    "        FROM (\n",
    "          SELECT\n",
    "            Accident_Index,\n",
    "            Gender,\n",
    "            Severity,\n",
    "            AgeCategory,\n",
    "            CASE\n",
    "              WHEN TimeDay BETWEEN 500 AND 1159 THEN 'Morning'\n",
    "              WHEN TimeDay BETWEEN 1200 AND 1659 THEN 'Afternoon'\n",
    "              WHEN TimeDay BETWEEN 1700 AND 2059 THEN 'Evening'\n",
    "            ELSE\n",
    "            'Night'\n",
    "            END\n",
    "            TimeOfDay,\n",
    "          # Intead of going through time, I just changed it to Morning, Afternoon, Evening and Night\n",
    "          # For the purpose of readability and plotting graphs  \n",
    "            Date,\n",
    "            Number_of_Casualties,\n",
    "            Number_of_Vehicles,\n",
    "            Speed_limit,\n",
    "            Road_conditions,\n",
    "            Light_conditions\n",
    "          FROM (\n",
    "            SELECT\n",
    "              Accident_Index,\n",
    "              Gender,\n",
    "              Severity,\n",
    "              AgeCategory,\n",
    "            # With the use of CONCAT with put Hour and Min together in the same column\n",
    "            # And with CAST to change the string into an INT\n",
    "            # This will make it easier for us to do the next nesting  \n",
    "              CAST (CONCAT(Hour, Min) AS INT64) AS TimeDay,\n",
    "              Date,\n",
    "              Number_of_Casualties,\n",
    "              Number_of_Vehicles,\n",
    "              Speed_limit,\n",
    "              Road_conditions,\n",
    "              Light_conditions\n",
    "            FROM (\n",
    "              SELECT\n",
    "                Accident_Index,\n",
    "                Gender,\n",
    "                Severity,\n",
    "                AgeCategory,\n",
    "                Time,\n",
    "              # We are breaking the time to two separate columns between hours and minutes\n",
    "              # Then above we will connect them together as an INT  \n",
    "                LEFT(Time, 2) AS Hour,\n",
    "                RIGHT(Time, 2) AS Min,\n",
    "                Date,\n",
    "                Number_of_Casualties,\n",
    "                Number_of_Vehicles,\n",
    "                Speed_limit,\n",
    "                Road_conditions,\n",
    "                Light_conditions\n",
    "              FROM (\n",
    "                SELECT\n",
    "                  Accident_Index,\n",
    "                  Gender,\n",
    "                  Severity,\n",
    "                # CASE WHEN to put each Age_Grp into an AgeCategory\n",
    "                # 1 for Children; 2 for Youth; 3 for Adult; 4 for Senior  \n",
    "                  CASE\n",
    "                    WHEN Age_Grp = '6 to 10' THEN '1'\n",
    "                    WHEN Age_Grp = '11 to 15' THEN '1'\n",
    "                    WHEN Age_Grp = '16 to 20' THEN '2'\n",
    "                    WHEN Age_Grp = '21 to 25' THEN '2'\n",
    "                    WHEN Age_Grp = '26 to 35' THEN '3'\n",
    "                    WHEN Age_Grp = '36 to 45' THEN '3'\n",
    "                    WHEN Age_Grp = '46 to 55' THEN '3'\n",
    "                    WHEN Age_Grp = '56 to 65' THEN '3'\n",
    "                  ELSE\n",
    "                  '4'\n",
    "                  END\n",
    "                  AgeCategory,\n",
    "                  Time,\n",
    "                  Date,\n",
    "                  Number_of_Casualties,\n",
    "                  Number_of_Vehicles,\n",
    "                  Speed_limit,\n",
    "                  Road_conditions,\n",
    "                  Light_conditions\n",
    "                FROM (\n",
    "                  SELECT \n",
    "                  # Here, I am compiling the data\n",
    "                    gba.Accident_Index,\n",
    "                  # Also renaming these columns without proper name  \n",
    "                    string_field_1 AS Gender,\n",
    "                    string_field_2 AS Severity,\n",
    "                    string_field_3 AS Age_Grp,\n",
    "                    Time,\n",
    "                    Date,\n",
    "                    Number_of_Casualties,\n",
    "                    Number_of_Vehicles,\n",
    "                    Speed_limit,\n",
    "                    Road_conditions,\n",
    "                    Light_conditions\n",
    "                  FROM\n",
    "                `capstoneproject-334316.CapstoneData.Accidents` gba\n",
    "                  JOIN\n",
    "                `capstoneproject-334316.CapstoneData.Bikers` gbb\n",
    "                  ON\n",
    "                gba.Accident_Index = gbb.string_field_0)))))\"\"\"\n",
    "\n",
    "client = bigquery.Client()\n",
    "query_job = client.query(query)\n",
    "\n",
    "time.sleep(2)\n",
    "result = query_job.result()"
   ]
  },
  {
   "cell_type": "markdown",
   "id": "3032350d",
   "metadata": {},
   "source": [
    "## \"Do the accidents occur during dry road conditions or wet road conditions?\""
   ]
  },
  {
   "cell_type": "markdown",
   "id": "a28f9032",
   "metadata": {},
   "source": [
    "Let's dive into to our data and explore our question!"
   ]
  },
  {
   "cell_type": "code",
   "execution_count": 5,
   "id": "cbad7b64",
   "metadata": {},
   "outputs": [],
   "source": [
    "df = result.to_dataframe()"
   ]
  },
  {
   "cell_type": "code",
   "execution_count": 6,
   "id": "2b9e3e7a",
   "metadata": {
    "scrolled": true
   },
   "outputs": [
    {
     "data": {
      "text/html": [
       "<div>\n",
       "<style scoped>\n",
       "    .dataframe tbody tr th:only-of-type {\n",
       "        vertical-align: middle;\n",
       "    }\n",
       "\n",
       "    .dataframe tbody tr th {\n",
       "        vertical-align: top;\n",
       "    }\n",
       "\n",
       "    .dataframe thead th {\n",
       "        text-align: right;\n",
       "    }\n",
       "</style>\n",
       "<table border=\"1\" class=\"dataframe\">\n",
       "  <thead>\n",
       "    <tr style=\"text-align: right;\">\n",
       "      <th></th>\n",
       "      <th>Accident_Index</th>\n",
       "      <th>Gender</th>\n",
       "      <th>Severity</th>\n",
       "      <th>AgeCategory</th>\n",
       "      <th>TimeOfDay</th>\n",
       "      <th>Year</th>\n",
       "      <th>Number_of_Casualties</th>\n",
       "      <th>Number_of_Vehicles</th>\n",
       "      <th>Speed_limit</th>\n",
       "      <th>Road_conditions</th>\n",
       "      <th>Light_conditions</th>\n",
       "    </tr>\n",
       "  </thead>\n",
       "  <tbody>\n",
       "    <tr>\n",
       "      <th>0</th>\n",
       "      <td>197901K2IGW82</td>\n",
       "      <td>Male</td>\n",
       "      <td>Slight</td>\n",
       "      <td>2</td>\n",
       "      <td>Morning</td>\n",
       "      <td>1979</td>\n",
       "      <td>1</td>\n",
       "      <td>2</td>\n",
       "      <td>30.0</td>\n",
       "      <td>Dry</td>\n",
       "      <td>Daylight</td>\n",
       "    </tr>\n",
       "    <tr>\n",
       "      <th>1</th>\n",
       "      <td>197901K2IJP51</td>\n",
       "      <td>Male</td>\n",
       "      <td>Slight</td>\n",
       "      <td>2</td>\n",
       "      <td>Morning</td>\n",
       "      <td>1979</td>\n",
       "      <td>1</td>\n",
       "      <td>2</td>\n",
       "      <td>30.0</td>\n",
       "      <td>Dry</td>\n",
       "      <td>Daylight</td>\n",
       "    </tr>\n",
       "    <tr>\n",
       "      <th>2</th>\n",
       "      <td>197901K2LDX91</td>\n",
       "      <td>Female</td>\n",
       "      <td>Serious</td>\n",
       "      <td>2</td>\n",
       "      <td>Morning</td>\n",
       "      <td>1979</td>\n",
       "      <td>1</td>\n",
       "      <td>2</td>\n",
       "      <td>30.0</td>\n",
       "      <td>Dry</td>\n",
       "      <td>Daylight</td>\n",
       "    </tr>\n",
       "    <tr>\n",
       "      <th>3</th>\n",
       "      <td>197901K2LJC25</td>\n",
       "      <td>Male</td>\n",
       "      <td>Slight</td>\n",
       "      <td>3</td>\n",
       "      <td>Morning</td>\n",
       "      <td>1979</td>\n",
       "      <td>1</td>\n",
       "      <td>2</td>\n",
       "      <td>30.0</td>\n",
       "      <td>Dry</td>\n",
       "      <td>Daylight</td>\n",
       "    </tr>\n",
       "    <tr>\n",
       "      <th>4</th>\n",
       "      <td>197901K2MDD78</td>\n",
       "      <td>Male</td>\n",
       "      <td>Slight</td>\n",
       "      <td>2</td>\n",
       "      <td>Afternoon</td>\n",
       "      <td>1979</td>\n",
       "      <td>1</td>\n",
       "      <td>2</td>\n",
       "      <td>30.0</td>\n",
       "      <td>Dry</td>\n",
       "      <td>Daylight</td>\n",
       "    </tr>\n",
       "    <tr>\n",
       "      <th>5</th>\n",
       "      <td>197901K2NAX84</td>\n",
       "      <td>Male</td>\n",
       "      <td>Slight</td>\n",
       "      <td>1</td>\n",
       "      <td>Afternoon</td>\n",
       "      <td>1979</td>\n",
       "      <td>1</td>\n",
       "      <td>2</td>\n",
       "      <td>30.0</td>\n",
       "      <td>Dry</td>\n",
       "      <td>Daylight</td>\n",
       "    </tr>\n",
       "    <tr>\n",
       "      <th>6</th>\n",
       "      <td>197901K2NHD96</td>\n",
       "      <td>Male</td>\n",
       "      <td>Serious</td>\n",
       "      <td>4</td>\n",
       "      <td>Afternoon</td>\n",
       "      <td>1979</td>\n",
       "      <td>1</td>\n",
       "      <td>2</td>\n",
       "      <td>30.0</td>\n",
       "      <td>Dry</td>\n",
       "      <td>Daylight</td>\n",
       "    </tr>\n",
       "    <tr>\n",
       "      <th>7</th>\n",
       "      <td>197901K2PHE55</td>\n",
       "      <td>Male</td>\n",
       "      <td>Slight</td>\n",
       "      <td>1</td>\n",
       "      <td>Afternoon</td>\n",
       "      <td>1979</td>\n",
       "      <td>1</td>\n",
       "      <td>2</td>\n",
       "      <td>30.0</td>\n",
       "      <td>Dry</td>\n",
       "      <td>Daylight</td>\n",
       "    </tr>\n",
       "    <tr>\n",
       "      <th>8</th>\n",
       "      <td>197901K2QJU19</td>\n",
       "      <td>Male</td>\n",
       "      <td>Serious</td>\n",
       "      <td>2</td>\n",
       "      <td>Afternoon</td>\n",
       "      <td>1979</td>\n",
       "      <td>1</td>\n",
       "      <td>2</td>\n",
       "      <td>30.0</td>\n",
       "      <td>Dry</td>\n",
       "      <td>Darkness lights lit</td>\n",
       "    </tr>\n",
       "    <tr>\n",
       "      <th>9</th>\n",
       "      <td>197901K2RDD34</td>\n",
       "      <td>Male</td>\n",
       "      <td>Slight</td>\n",
       "      <td>2</td>\n",
       "      <td>Evening</td>\n",
       "      <td>1979</td>\n",
       "      <td>1</td>\n",
       "      <td>2</td>\n",
       "      <td>30.0</td>\n",
       "      <td>Dry</td>\n",
       "      <td>Darkness lights lit</td>\n",
       "    </tr>\n",
       "  </tbody>\n",
       "</table>\n",
       "</div>"
      ],
      "text/plain": [
       "  Accident_Index  Gender Severity AgeCategory  TimeOfDay  Year  \\\n",
       "0  197901K2IGW82    Male   Slight           2    Morning  1979   \n",
       "1  197901K2IJP51    Male   Slight           2    Morning  1979   \n",
       "2  197901K2LDX91  Female  Serious           2    Morning  1979   \n",
       "3  197901K2LJC25    Male   Slight           3    Morning  1979   \n",
       "4  197901K2MDD78    Male   Slight           2  Afternoon  1979   \n",
       "5  197901K2NAX84    Male   Slight           1  Afternoon  1979   \n",
       "6  197901K2NHD96    Male  Serious           4  Afternoon  1979   \n",
       "7  197901K2PHE55    Male   Slight           1  Afternoon  1979   \n",
       "8  197901K2QJU19    Male  Serious           2  Afternoon  1979   \n",
       "9  197901K2RDD34    Male   Slight           2    Evening  1979   \n",
       "\n",
       "   Number_of_Casualties  Number_of_Vehicles  Speed_limit Road_conditions  \\\n",
       "0                     1                   2         30.0             Dry   \n",
       "1                     1                   2         30.0             Dry   \n",
       "2                     1                   2         30.0             Dry   \n",
       "3                     1                   2         30.0             Dry   \n",
       "4                     1                   2         30.0             Dry   \n",
       "5                     1                   2         30.0             Dry   \n",
       "6                     1                   2         30.0             Dry   \n",
       "7                     1                   2         30.0             Dry   \n",
       "8                     1                   2         30.0             Dry   \n",
       "9                     1                   2         30.0             Dry   \n",
       "\n",
       "      Light_conditions  \n",
       "0             Daylight  \n",
       "1             Daylight  \n",
       "2             Daylight  \n",
       "3             Daylight  \n",
       "4             Daylight  \n",
       "5             Daylight  \n",
       "6             Daylight  \n",
       "7             Daylight  \n",
       "8  Darkness lights lit  \n",
       "9  Darkness lights lit  "
      ]
     },
     "execution_count": 6,
     "metadata": {},
     "output_type": "execute_result"
    }
   ],
   "source": [
    "df.head(10)"
   ]
  },
  {
   "cell_type": "markdown",
   "id": "0116fc9c",
   "metadata": {},
   "source": [
    "Let's create a variable that group with *Road_conditions* with the *Number_of_Casualties* and *Number_of_Vehicles*"
   ]
  },
  {
   "cell_type": "code",
   "execution_count": 7,
   "id": "0f71e123",
   "metadata": {
    "scrolled": false
   },
   "outputs": [
    {
     "data": {
      "text/html": [
       "<div>\n",
       "<style scoped>\n",
       "    .dataframe tbody tr th:only-of-type {\n",
       "        vertical-align: middle;\n",
       "    }\n",
       "\n",
       "    .dataframe tbody tr th {\n",
       "        vertical-align: top;\n",
       "    }\n",
       "\n",
       "    .dataframe thead th {\n",
       "        text-align: right;\n",
       "    }\n",
       "</style>\n",
       "<table border=\"1\" class=\"dataframe\">\n",
       "  <thead>\n",
       "    <tr style=\"text-align: right;\">\n",
       "      <th></th>\n",
       "      <th>Number_of_Casualties</th>\n",
       "      <th>Number_of_Vehicles</th>\n",
       "    </tr>\n",
       "    <tr>\n",
       "      <th>Road_conditions</th>\n",
       "      <th></th>\n",
       "      <th></th>\n",
       "    </tr>\n",
       "  </thead>\n",
       "  <tbody>\n",
       "    <tr>\n",
       "      <th>Dry</th>\n",
       "      <td>488017</td>\n",
       "      <td>925440</td>\n",
       "    </tr>\n",
       "    <tr>\n",
       "      <th>Wet</th>\n",
       "      <td>141512</td>\n",
       "      <td>271746</td>\n",
       "    </tr>\n",
       "    <tr>\n",
       "      <th>Frost</th>\n",
       "      <td>4386</td>\n",
       "      <td>8019</td>\n",
       "    </tr>\n",
       "    <tr>\n",
       "      <th>Snow</th>\n",
       "      <td>1305</td>\n",
       "      <td>2484</td>\n",
       "    </tr>\n",
       "    <tr>\n",
       "      <th>Missing Data</th>\n",
       "      <td>799</td>\n",
       "      <td>1518</td>\n",
       "    </tr>\n",
       "    <tr>\n",
       "      <th>Flood</th>\n",
       "      <td>202</td>\n",
       "      <td>359</td>\n",
       "    </tr>\n",
       "  </tbody>\n",
       "</table>\n",
       "</div>"
      ],
      "text/plain": [
       "                 Number_of_Casualties  Number_of_Vehicles\n",
       "Road_conditions                                          \n",
       "Dry                            488017              925440\n",
       "Wet                            141512              271746\n",
       "Frost                            4386                8019\n",
       "Snow                             1305                2484\n",
       "Missing Data                      799                1518\n",
       "Flood                             202                 359"
      ]
     },
     "execution_count": 7,
     "metadata": {},
     "output_type": "execute_result"
    }
   ],
   "source": [
    "RdCond = df.groupby('Road_conditions').sum()\n",
    "RdCond = RdCond.drop(columns = ['Year', 'Speed_limit'])\n",
    "RdCond = RdCond.sort_values('Number_of_Casualties', ascending=False)\n",
    "RdCond                    "
   ]
  },
  {
   "cell_type": "markdown",
   "id": "72b70d8d",
   "metadata": {},
   "source": [
    "Creating a variable of Road_conditions, right off the bat we see that our hypothesis is correct. As it shows, dry road condition has a higher accident compared to other conditions. \n",
    "This may be in fact the either drivers or cyclist don't tend to pay attention as the road is clear. I believe everyone else is more cautions with certain conditions aren't in their comfort zone."
   ]
  },
  {
   "cell_type": "markdown",
   "id": "8ae06627",
   "metadata": {},
   "source": [
    "Let's create a bar chart to further visualize the difference when the accident occur in dry conditions versus the others. "
   ]
  },
  {
   "cell_type": "code",
   "execution_count": 8,
   "id": "3b3bc4ad",
   "metadata": {
    "scrolled": false
   },
   "outputs": [
    {
     "data": {
      "text/plain": [
       "[Text(0.5, 1.0, 'Numbers_of_Casualties vs. Road_Conditions')]"
      ]
     },
     "execution_count": 8,
     "metadata": {},
     "output_type": "execute_result"
    },
    {
     "data": {
      "image/png": "[encoded data removed]",
      "text/plain": [
       "<Figure size 1080x576 with 1 Axes>"
      ]
     },
     "metadata": {
      "needs_background": "light"
     },
     "output_type": "display_data"
    }
   ],
   "source": [
    "plt.figure(figsize=(15,8))\n",
    "sns.barplot(x=RdCond.index, y='Number_of_Casualties', data=RdCond).set(title='Numbers_of_Casualties vs. Road_Conditions')"
   ]
  },
  {
   "cell_type": "markdown",
   "id": "47ba0267",
   "metadata": {},
   "source": [
    "With the dry condition showcasing the a huge difference between the other road conditions, drivers/bikers need to be careful at all times. Any road conditions may it be, drivers and bikers needs to be aware of their surroundings at all times. Situations can occur any conditions or any time of day."
   ]
  },
  {
   "cell_type": "markdown",
   "id": "3999e8f3",
   "metadata": {},
   "source": [
    "## Investigating casualties further"
   ]
  },
  {
   "cell_type": "markdown",
   "id": "10b10677",
   "metadata": {},
   "source": [
    "### Top 10 of Highest Casualties by Year.\n",
    "\n",
    "Explore the 'Year' - Which year had the most bicycle accident?"
   ]
  },
  {
   "cell_type": "code",
   "execution_count": 9,
   "id": "196dc455",
   "metadata": {
    "scrolled": false
   },
   "outputs": [
    {
     "data": {
      "text/html": [
       "<div>\n",
       "<style scoped>\n",
       "    .dataframe tbody tr th:only-of-type {\n",
       "        vertical-align: middle;\n",
       "    }\n",
       "\n",
       "    .dataframe tbody tr th {\n",
       "        vertical-align: top;\n",
       "    }\n",
       "\n",
       "    .dataframe thead th {\n",
       "        text-align: right;\n",
       "    }\n",
       "</style>\n",
       "<table border=\"1\" class=\"dataframe\">\n",
       "  <thead>\n",
       "    <tr style=\"text-align: right;\">\n",
       "      <th></th>\n",
       "      <th>Number_of_Casualties</th>\n",
       "      <th>Number_of_Vehicles</th>\n",
       "    </tr>\n",
       "    <tr>\n",
       "      <th>Year</th>\n",
       "      <th></th>\n",
       "      <th></th>\n",
       "    </tr>\n",
       "  </thead>\n",
       "  <tbody>\n",
       "    <tr>\n",
       "      <th>1984</th>\n",
       "      <td>25927</td>\n",
       "      <td>48505</td>\n",
       "    </tr>\n",
       "    <tr>\n",
       "      <th>1983</th>\n",
       "      <td>25329</td>\n",
       "      <td>47314</td>\n",
       "    </tr>\n",
       "    <tr>\n",
       "      <th>1989</th>\n",
       "      <td>24337</td>\n",
       "      <td>46415</td>\n",
       "    </tr>\n",
       "    <tr>\n",
       "      <th>1982</th>\n",
       "      <td>22820</td>\n",
       "      <td>42261</td>\n",
       "    </tr>\n",
       "    <tr>\n",
       "      <th>1985</th>\n",
       "      <td>22179</td>\n",
       "      <td>41698</td>\n",
       "    </tr>\n",
       "    <tr>\n",
       "      <th>1988</th>\n",
       "      <td>21654</td>\n",
       "      <td>41216</td>\n",
       "    </tr>\n",
       "    <tr>\n",
       "      <th>1990</th>\n",
       "      <td>21497</td>\n",
       "      <td>41145</td>\n",
       "    </tr>\n",
       "    <tr>\n",
       "      <th>1987</th>\n",
       "      <td>21305</td>\n",
       "      <td>40421</td>\n",
       "    </tr>\n",
       "    <tr>\n",
       "      <th>1986</th>\n",
       "      <td>21240</td>\n",
       "      <td>40268</td>\n",
       "    </tr>\n",
       "    <tr>\n",
       "      <th>1995</th>\n",
       "      <td>20484</td>\n",
       "      <td>38947</td>\n",
       "    </tr>\n",
       "  </tbody>\n",
       "</table>\n",
       "</div>"
      ],
      "text/plain": [
       "      Number_of_Casualties  Number_of_Vehicles\n",
       "Year                                          \n",
       "1984                 25927               48505\n",
       "1983                 25329               47314\n",
       "1989                 24337               46415\n",
       "1982                 22820               42261\n",
       "1985                 22179               41698\n",
       "1988                 21654               41216\n",
       "1990                 21497               41145\n",
       "1987                 21305               40421\n",
       "1986                 21240               40268\n",
       "1995                 20484               38947"
      ]
     },
     "execution_count": 9,
     "metadata": {},
     "output_type": "execute_result"
    }
   ],
   "source": [
    "NumAccidents = df.groupby(['Year']).sum()\n",
    "NumAccidents = NumAccidents.drop(columns = ['Speed_limit'])\n",
    "NumAccidents = NumAccidents.sort_values('Number_of_Casualties', ascending=False)\n",
    "NumAccidents.head(10)"
   ]
  },
  {
   "cell_type": "markdown",
   "id": "8e4591ef",
   "metadata": {},
   "source": [
    "As the result shows - in seems the 80's was quite a problematic decade for bicycle accidents in Great Britain. More specifically in the mid 80's. This may be because there are no rules implemented towards drivers and cyclist. Or any bicycle lanes and safety procedures, such as wearing helmets and reflective wear. "
   ]
  },
  {
   "cell_type": "markdown",
   "id": "595d10da",
   "metadata": {},
   "source": [
    "### Top 10 Lowest Casualties by Year."
   ]
  },
  {
   "cell_type": "markdown",
   "id": "d0ee3c3b",
   "metadata": {},
   "source": [
    "Let's take a look at the lowest Top 10 Casualties by the year. Will it be closer the the same decade as our Highest Top 10 Casualties?"
   ]
  },
  {
   "cell_type": "code",
   "execution_count": 10,
   "id": "110c3186",
   "metadata": {
    "scrolled": true
   },
   "outputs": [
    {
     "data": {
      "text/html": [
       "<div>\n",
       "<style scoped>\n",
       "    .dataframe tbody tr th:only-of-type {\n",
       "        vertical-align: middle;\n",
       "    }\n",
       "\n",
       "    .dataframe tbody tr th {\n",
       "        vertical-align: top;\n",
       "    }\n",
       "\n",
       "    .dataframe thead th {\n",
       "        text-align: right;\n",
       "    }\n",
       "</style>\n",
       "<table border=\"1\" class=\"dataframe\">\n",
       "  <thead>\n",
       "    <tr style=\"text-align: right;\">\n",
       "      <th></th>\n",
       "      <th>Number_of_Casualties</th>\n",
       "      <th>Number_of_Vehicles</th>\n",
       "    </tr>\n",
       "    <tr>\n",
       "      <th>Year</th>\n",
       "      <th></th>\n",
       "      <th></th>\n",
       "    </tr>\n",
       "  </thead>\n",
       "  <tbody>\n",
       "    <tr>\n",
       "      <th>2018</th>\n",
       "      <td>2470</td>\n",
       "      <td>4818</td>\n",
       "    </tr>\n",
       "    <tr>\n",
       "      <th>2017</th>\n",
       "      <td>2527</td>\n",
       "      <td>4971</td>\n",
       "    </tr>\n",
       "    <tr>\n",
       "      <th>2016</th>\n",
       "      <td>5917</td>\n",
       "      <td>11369</td>\n",
       "    </tr>\n",
       "    <tr>\n",
       "      <th>2006</th>\n",
       "      <td>9511</td>\n",
       "      <td>18300</td>\n",
       "    </tr>\n",
       "    <tr>\n",
       "      <th>2005</th>\n",
       "      <td>9551</td>\n",
       "      <td>18430</td>\n",
       "    </tr>\n",
       "    <tr>\n",
       "      <th>2007</th>\n",
       "      <td>9583</td>\n",
       "      <td>18396</td>\n",
       "    </tr>\n",
       "    <tr>\n",
       "      <th>2008</th>\n",
       "      <td>9711</td>\n",
       "      <td>18722</td>\n",
       "    </tr>\n",
       "    <tr>\n",
       "      <th>2009</th>\n",
       "      <td>10164</td>\n",
       "      <td>19403</td>\n",
       "    </tr>\n",
       "    <tr>\n",
       "      <th>2010</th>\n",
       "      <td>10542</td>\n",
       "      <td>20218</td>\n",
       "    </tr>\n",
       "    <tr>\n",
       "      <th>2015</th>\n",
       "      <td>10777</td>\n",
       "      <td>20820</td>\n",
       "    </tr>\n",
       "  </tbody>\n",
       "</table>\n",
       "</div>"
      ],
      "text/plain": [
       "      Number_of_Casualties  Number_of_Vehicles\n",
       "Year                                          \n",
       "2018                  2470                4818\n",
       "2017                  2527                4971\n",
       "2016                  5917               11369\n",
       "2006                  9511               18300\n",
       "2005                  9551               18430\n",
       "2007                  9583               18396\n",
       "2008                  9711               18722\n",
       "2009                 10164               19403\n",
       "2010                 10542               20218\n",
       "2015                 10777               20820"
      ]
     },
     "execution_count": 10,
     "metadata": {},
     "output_type": "execute_result"
    }
   ],
   "source": [
    "NumAccidents = df.groupby(['Year']).sum()\n",
    "NumAccidents = NumAccidents.drop(columns = ['Speed_limit'])\n",
    "NumAccidents = NumAccidents.sort_values('Number_of_Casualties', ascending=True)\n",
    "NumAccidents.head(10)"
   ]
  },
  {
   "cell_type": "markdown",
   "id": "42156697",
   "metadata": {},
   "source": [
    "It seems with our result, there are less casualties in the late 2010's. Though there was a spike in numbers in 2015. Let's chart a line graph and visualize the time frame of these casualties."
   ]
  },
  {
   "cell_type": "markdown",
   "id": "b8b397bc",
   "metadata": {},
   "source": [
    "### Number of Casualties by Year"
   ]
  },
  {
   "cell_type": "code",
   "execution_count": 11,
   "id": "65298b12",
   "metadata": {
    "scrolled": false
   },
   "outputs": [
    {
     "data": {
      "text/plain": [
       "[Text(0.5, 1.0, 'Number_of_Casualties vs. Year')]"
      ]
     },
     "execution_count": 11,
     "metadata": {},
     "output_type": "execute_result"
    },
    {
     "data": {
      "image/png": "[encoded data removed]",
      "text/plain": [
       "<Figure size 1080x576 with 1 Axes>"
      ]
     },
     "metadata": {
      "needs_background": "light"
     },
     "output_type": "display_data"
    }
   ],
   "source": [
    "plt.figure(figsize=(15,8))\n",
    "sns.lineplot(data=NumAccidents, x=NumAccidents.index, y='Number_of_Casualties').set(title='Number_of_Casualties vs. Year')"
   ]
  },
  {
   "cell_type": "markdown",
   "id": "c8acf18f",
   "metadata": {},
   "source": [
    "The Top 10 Highest and Lowest chart have a decade of difference. The chart shows a decline of casualties around 1996-1997 and arise by 2005 with a peak at 2015. Then decline onces again throughout the rest of the year in the dataset. This may have to be a stricter rules of bikers and possibility of bike lanes built.\n",
    "\n",
    "Let's investigate further with the casualties."
   ]
  },
  {
   "cell_type": "markdown",
   "id": "94b9e6bf",
   "metadata": {},
   "source": [
    "### Top 10 Fatal Accident by Year"
   ]
  },
  {
   "cell_type": "markdown",
   "id": "e190b079",
   "metadata": {},
   "source": [
    "In this Dataset - We have column of the *'Severity'* of the accident. From Slightly, Severe, or Fatal.\n",
    "Since we looked at the Top 10 Highest Casualties by Year - let's see if those years will also reflect with the previous data."
   ]
  },
  {
   "cell_type": "code",
   "execution_count": 12,
   "id": "f408ff9d",
   "metadata": {},
   "outputs": [
    {
     "data": {
      "text/html": [
       "<div>\n",
       "<style scoped>\n",
       "    .dataframe tbody tr th:only-of-type {\n",
       "        vertical-align: middle;\n",
       "    }\n",
       "\n",
       "    .dataframe tbody tr th {\n",
       "        vertical-align: top;\n",
       "    }\n",
       "\n",
       "    .dataframe thead th {\n",
       "        text-align: right;\n",
       "    }\n",
       "</style>\n",
       "<table border=\"1\" class=\"dataframe\">\n",
       "  <thead>\n",
       "    <tr style=\"text-align: right;\">\n",
       "      <th></th>\n",
       "      <th>TotalFatality</th>\n",
       "    </tr>\n",
       "    <tr>\n",
       "      <th>Year</th>\n",
       "      <th></th>\n",
       "    </tr>\n",
       "  </thead>\n",
       "  <tbody>\n",
       "    <tr>\n",
       "      <th>1984</th>\n",
       "      <td>246</td>\n",
       "    </tr>\n",
       "    <tr>\n",
       "      <th>1983</th>\n",
       "      <td>234</td>\n",
       "    </tr>\n",
       "    <tr>\n",
       "      <th>1989</th>\n",
       "      <td>222</td>\n",
       "    </tr>\n",
       "    <tr>\n",
       "      <th>1982</th>\n",
       "      <td>221</td>\n",
       "    </tr>\n",
       "    <tr>\n",
       "      <th>1985</th>\n",
       "      <td>210</td>\n",
       "    </tr>\n",
       "    <tr>\n",
       "      <th>1979</th>\n",
       "      <td>206</td>\n",
       "    </tr>\n",
       "    <tr>\n",
       "      <th>1981</th>\n",
       "      <td>206</td>\n",
       "    </tr>\n",
       "    <tr>\n",
       "      <th>1987</th>\n",
       "      <td>201</td>\n",
       "    </tr>\n",
       "    <tr>\n",
       "      <th>1980</th>\n",
       "      <td>200</td>\n",
       "    </tr>\n",
       "    <tr>\n",
       "      <th>1986</th>\n",
       "      <td>191</td>\n",
       "    </tr>\n",
       "  </tbody>\n",
       "</table>\n",
       "</div>"
      ],
      "text/plain": [
       "      TotalFatality\n",
       "Year               \n",
       "1984            246\n",
       "1983            234\n",
       "1989            222\n",
       "1982            221\n",
       "1985            210\n",
       "1979            206\n",
       "1981            206\n",
       "1987            201\n",
       "1980            200\n",
       "1986            191"
      ]
     },
     "execution_count": 12,
     "metadata": {},
     "output_type": "execute_result"
    }
   ],
   "source": [
    "TopFat = df[df['Severity'] == 'Fatal'].groupby('Year').size().to_frame()\n",
    "TopFat.columns = ['TotalFatality']\n",
    "TopFat = TopFat.sort_values('TotalFatality', ascending=False)\n",
    "TopFat.head(10)"
   ]
  },
  {
   "cell_type": "markdown",
   "id": "e08f091a",
   "metadata": {},
   "source": [
    "With this result, the first 5 is consistent with the first data we looked at. This data suggest 80's was problematic for cyclist. Let's make a line graph and see if there's a decline throughout the year."
   ]
  },
  {
   "cell_type": "code",
   "execution_count": 13,
   "id": "8280df84",
   "metadata": {},
   "outputs": [
    {
     "data": {
      "text/plain": [
       "[Text(0.5, 1.0, 'TotalFatality vs. Year')]"
      ]
     },
     "execution_count": 13,
     "metadata": {},
     "output_type": "execute_result"
    },
    {
     "data": {
      "image/png": "[encoded data removed]",
      "text/plain": [
       "<Figure size 1080x576 with 1 Axes>"
      ]
     },
     "metadata": {
      "needs_background": "light"
     },
     "output_type": "display_data"
    }
   ],
   "source": [
    "plt.figure(figsize=(15,8))\n",
    "sns.lineplot(data=TopFat, x=TopFat.index, y='TotalFatality').set(title='TotalFatality vs. Year')"
   ]
  },
  {
   "cell_type": "markdown",
   "id": "25cc9841",
   "metadata": {},
   "source": [
    "Our line graph shows a decline of 'Fatal' accident with a spike in number in 1989 as showed on our Top 10 Highest Casualties."
   ]
  },
  {
   "cell_type": "markdown",
   "id": "bf5b4e12",
   "metadata": {},
   "source": [
    "Bare in mind, the *Number_of_Casualties* also have all the types of *'Severity'*\n",
    "\n",
    "At quick glance at our graph, similar to our 'Fatality' graph that we have a spike in number mid and late 80's.\n",
    "We do see a similar decline from both graphs towards the 2000s. Though with our *Number_of_Casualties* graph, we see an increase from 2005 and 2015 but almost a drastic drop in numbers by 2015. \n",
    "\n",
    "I believe that they enforced and have stricter rules when it comes to cyclist. Such as wearing helmets and reflective wear when riding in the evening."
   ]
  },
  {
   "cell_type": "markdown",
   "id": "581fd235",
   "metadata": {},
   "source": [
    "### Accidents by TimeOfDay"
   ]
  },
  {
   "cell_type": "markdown",
   "id": "4b19c316",
   "metadata": {},
   "source": [
    "Let's see how we can when these accident usually occur. Do they happen in the morning or afternoon or in the evening. \n",
    "\n",
    "Also while looking at the *mean* of the *Speed_limt*\n",
    "\n",
    "**Time Of Day Breakdown**\n",
    "\n",
    "*Military Time*\n",
    "\n",
    "Morning = 05:00 - 11:59\n",
    "\n",
    "Afternoon = 12:00 - 16:59\n",
    "\n",
    "Evening = 17:00 - 20:59\n",
    "\n",
    "Night = 21:00 - 04:59"
   ]
  },
  {
   "cell_type": "code",
   "execution_count": 14,
   "id": "524b6ad9",
   "metadata": {
    "scrolled": true
   },
   "outputs": [
    {
     "data": {
      "text/html": [
       "<div>\n",
       "<style scoped>\n",
       "    .dataframe tbody tr th:only-of-type {\n",
       "        vertical-align: middle;\n",
       "    }\n",
       "\n",
       "    .dataframe tbody tr th {\n",
       "        vertical-align: top;\n",
       "    }\n",
       "\n",
       "    .dataframe thead th {\n",
       "        text-align: right;\n",
       "    }\n",
       "</style>\n",
       "<table border=\"1\" class=\"dataframe\">\n",
       "  <thead>\n",
       "    <tr style=\"text-align: right;\">\n",
       "      <th></th>\n",
       "      <th>Number_of_Casualties</th>\n",
       "      <th>Number_of_Vehicles</th>\n",
       "      <th>SpeedLimitMean</th>\n",
       "    </tr>\n",
       "    <tr>\n",
       "      <th>TimeOfDay</th>\n",
       "      <th></th>\n",
       "      <th></th>\n",
       "      <th></th>\n",
       "    </tr>\n",
       "  </thead>\n",
       "  <tbody>\n",
       "    <tr>\n",
       "      <th>Afternoon</th>\n",
       "      <td>210390</td>\n",
       "      <td>399233</td>\n",
       "      <td>33.142901</td>\n",
       "    </tr>\n",
       "    <tr>\n",
       "      <th>Evening</th>\n",
       "      <td>192167</td>\n",
       "      <td>365733</td>\n",
       "      <td>33.038518</td>\n",
       "    </tr>\n",
       "    <tr>\n",
       "      <th>Morning</th>\n",
       "      <td>191293</td>\n",
       "      <td>366060</td>\n",
       "      <td>33.283697</td>\n",
       "    </tr>\n",
       "    <tr>\n",
       "      <th>Night</th>\n",
       "      <td>42371</td>\n",
       "      <td>78540</td>\n",
       "      <td>33.042424</td>\n",
       "    </tr>\n",
       "  </tbody>\n",
       "</table>\n",
       "</div>"
      ],
      "text/plain": [
       "           Number_of_Casualties  Number_of_Vehicles  SpeedLimitMean\n",
       "TimeOfDay                                                          \n",
       "Afternoon                210390              399233       33.142901\n",
       "Evening                  192167              365733       33.038518\n",
       "Morning                  191293              366060       33.283697\n",
       "Night                     42371               78540       33.042424"
      ]
     },
     "execution_count": 14,
     "metadata": {},
     "output_type": "execute_result"
    }
   ],
   "source": [
    "TOD1 = df.groupby(['TimeOfDay']).sum()\n",
    "TOD1 = TOD1.drop(columns=['Year', 'Speed_limit'])\n",
    "TOD1 = TOD1.sort_values('Number_of_Casualties', ascending=False)\n",
    "\n",
    "TOD2 = df.groupby('TimeOfDay').mean('Speed_limit')\n",
    "TOD2 = TOD2.drop(columns=['Year', 'Number_of_Casualties', 'Number_of_Vehicles'])\n",
    "TOD2.columns = ['SpeedLimitMean']\n",
    "\n",
    "TOD = pd.merge(TOD1, TOD2, how=\"inner\", on=\"TimeOfDay\")\n",
    "TOD"
   ]
  },
  {
   "cell_type": "markdown",
   "id": "9918f02a",
   "metadata": {},
   "source": [
    "It seems that the average *'Speed_Limit'* where the accidents occur to be within 33mph. Either Drivers are not paying attention to Road Speed Limit or thinking they're going slow enough that they won't have to full pay attention around them."
   ]
  },
  {
   "cell_type": "code",
   "execution_count": 15,
   "id": "0652773f",
   "metadata": {
    "scrolled": false
   },
   "outputs": [
    {
     "data": {
      "text/plain": [
       "<AxesSubplot:xlabel='TimeOfDay', ylabel='Number_of_Casualties'>"
      ]
     },
     "execution_count": 15,
     "metadata": {},
     "output_type": "execute_result"
    },
    {
     "data": {
      "image/png": "[encoded data removed]",
      "text/plain": [
       "<Figure size 1080x576 with 1 Axes>"
      ]
     },
     "metadata": {
      "needs_background": "light"
     },
     "output_type": "display_data"
    }
   ],
   "source": [
    "plt.figure(figsize=(15,8))\n",
    "sns.barplot(x=TOD.index, y='Number_of_Casualties', data=TOD)"
   ]
  },
  {
   "cell_type": "markdown",
   "id": "92248e8a",
   "metadata": {},
   "source": [
    "As the graph shows throughout the year, majority of these accidents occur in the afternoon. It maybe as there are a lot more vehicles around the area for lunch and people rushing to be home. Since the morning is fairly close as well during Evening, fair to say people either going to school or to work. Everyone in rush mode and not paying attention to their surroundings."
   ]
  },
  {
   "cell_type": "markdown",
   "id": "e790d780",
   "metadata": {},
   "source": [
    "## In conclusion"
   ]
  },
  {
   "cell_type": "markdown",
   "id": "f00d59f7",
   "metadata": {},
   "source": [
    "More accident occur during dry road conditions. I believe, cyclist and/or drivers feels more relax to clear conditions compare to let's say rainy/wet conditions. But with what the graph showcase from our *NumAccidents* variable - there has been a decrease over the years of accidents. This may in cause of adding more bicycle lanes on heavy traffic areas. Government stepping in and making sure the cyclist follow *THE* rules. Rules such as putting on a helmet or reflective wear. As the data shows that this measures helped the decrease of bicycle accidents in Great Britain. \n",
    "\n",
    "Click [here](https://www.gov.uk/guidance/the-highway-code/rules-for-cyclists-59-to-82) to check out the Rules for Cyclist in the UK. \n",
    "\n",
    "For more visualization of this data, click on my [Tableau](https://public.tableau.com/app/profile/jon.jon.rico.noll/viz/BicycleAccidentInGreatBritain/BicycleAccident)"
   ]
  }
 ],
 "metadata": {
  "kernelspec": {
   "display_name": "Python 3",
   "language": "python",
   "name": "python3"
  },
  "language_info": {
   "codemirror_mode": {
    "name": "ipython",
    "version": 3
   },
   "file_extension": ".py",
   "mimetype": "text/x-python",
   "name": "python",
   "nbconvert_exporter": "python",
   "pygments_lexer": "ipython3",
   "version": "3.8.8"
  },
  "toc": {
   "base_numbering": 1,
   "nav_menu": {},
   "number_sections": true,
   "sideBar": true,
   "skip_h1_title": false,
   "title_cell": "Table of Contents",
   "title_sidebar": "Contents",
   "toc_cell": false,
   "toc_position": {},
   "toc_section_display": true,
   "toc_window_display": false
  },
  "varInspector": {
   "cols": {
    "lenName": 16,
    "lenType": 16,
    "lenVar": 40
   },
   "kernels_config": {
    "python": {
     "delete_cmd_postfix": "",
     "delete_cmd_prefix": "del ",
     "library": "var_list.py",
     "varRefreshCmd": "print(var_dic_list())"
    },
    "r": {
     "delete_cmd_postfix": ") ",
     "delete_cmd_prefix": "rm(",
     "library": "var_list.r",
     "varRefreshCmd": "cat(var_dic_list()) "
    }
   },
   "types_to_exclude": [
    "module",
    "function",
    "builtin_function_or_method",
    "instance",
    "_Feature"
   ],
   "window_display": false
  }
 },
 "nbformat": 4,
 "nbformat_minor": 5
}
